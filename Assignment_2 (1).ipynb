{
  "nbformat": 4,
  "nbformat_minor": 0,
  "metadata": {
    "colab": {
      "provenance": []
    },
    "kernelspec": {
      "name": "python3",
      "display_name": "Python 3"
    },
    "language_info": {
      "name": "python"
    }
  },
  "cells": [
    {
      "cell_type": "markdown",
      "source": [
        "**Write a Python function to perform linear search on a list**"
      ],
      "metadata": {
        "id": "zICmOr3xM7P3"
      }
    },
    {
      "cell_type": "code",
      "source": [
        "def linearsearch(list1, target):\n",
        "    index = 0\n",
        "    while index < len(list1):\n",
        "        if list1[index] == target:\n",
        "            return index\n",
        "        index += 1\n",
        "    return -1"
      ],
      "metadata": {
        "id": "OHAie4ZsNkge"
      },
      "execution_count": 1,
      "outputs": []
    },
    {
      "cell_type": "markdown",
      "source": [
        "**Modify the function to return the index of all occurrences of the search element.\n",
        "t**"
      ],
      "metadata": {
        "id": "9gt2NeSINAee"
      }
    },
    {
      "cell_type": "code",
      "source": [
        "def linearsearch(list1 , target):\n",
        "    item = []\n",
        "    index = 0\n",
        "    while index < len(list1):\n",
        "        if list1[index] == target:\n",
        "            item.append(index)\n",
        "        index += 1\n",
        "    return item\n",
        "list1 = [1, 3, 3, 3, 4, 10]\n",
        "target = 3\n",
        "result = linearsearch(list1, target)\n",
        "print(f\" {result}\")"
      ],
      "metadata": {
        "id": "Drr34lZZNlcd"
      },
      "execution_count": null,
      "outputs": []
    },
    {
      "cell_type": "markdown",
      "source": [
        "**Create a program to find the maximum element in a list using linear search.**"
      ],
      "metadata": {
        "id": "15VW81ZmNnYt"
      }
    },
    {
      "cell_type": "code",
      "source": [
        "list1 = [1, 3, 4, 5, 6, 7, 8]\n",
        "max = list1[0]\n",
        "for element in list1:\n",
        "    if element > max:\n",
        "        max = element\n",
        "print( {max})\n"
      ],
      "metadata": {
        "id": "Cv04SYmZNvfU"
      },
      "execution_count": null,
      "outputs": []
    },
    {
      "cell_type": "markdown",
      "source": [
        "**Implement binary search iteratively in Python**"
      ],
      "metadata": {
        "id": "CC1d9lWHNy4G"
      }
    },
    {
      "cell_type": "code",
      "source": [
        "def binarysearch(list1, target):\n",
        "    left, right = 0, len(list1) - 1\n",
        "    while left <= right:\n",
        "        mid = left + ((right - left) >> 1)\n",
        "        if list1[mid] == target:\n",
        "            return mid\n",
        "        elif list1[mid] < target:\n",
        "            left = mid + 1\n",
        "        else:\n",
        "            right = mid - 1\n",
        "\n",
        "    return -1\n",
        "list1 = [1, 3, 5, 7, 9, 11, 13, 15]\n",
        "target = 5\n",
        "result = binarysearch(list1, target)\n",
        "\n",
        "if result != -1:\n",
        "    print( {result})\n",
        "else:\n",
        "    print(\" not found \")"
      ],
      "metadata": {
        "id": "qNlprj2ON2sN"
      },
      "execution_count": null,
      "outputs": []
    },
    {
      "cell_type": "markdown",
      "source": [
        "**Implement binary search recursively in Python**"
      ],
      "metadata": {
        "id": "zdFByPpjN9VF"
      }
    },
    {
      "cell_type": "code",
      "source": [
        "def binarysearch(list1, target):\n",
        "    left, right = 0, len(list1) - 1\n",
        "    while left <= right:\n",
        "        mid = left + ((right - left) >> 1)\n",
        "        if list1[mid] == target:\n",
        "            return mid\n",
        "        elif list1[mid] < target:\n",
        "            left = mid + 1\n",
        "        else:\n",
        "            right = mid - 1\n",
        "\n",
        "    return -1\n",
        "list1 = [1, 3, 5, 7, 9, 11, 13, 15]\n",
        "target = 5\n",
        "result = binarysearch(list1, target)\n",
        "\n",
        "if result != -1:\n",
        "    print( {result})\n",
        "else:\n",
        "    print(\" not found \")"
      ],
      "metadata": {
        "id": "-ukDAxmLOAh9"
      },
      "execution_count": null,
      "outputs": []
    },
    {
      "cell_type": "markdown",
      "source": [
        "**Write a program to check if a list is sorted in ascending order using binary search**"
      ],
      "metadata": {
        "id": "XfCbhOl7ODkc"
      }
    },
    {
      "cell_type": "code",
      "source": [
        "def ssorted(list1):\n",
        "    if len(list1) < 2:\n",
        "        return True\n",
        "\n",
        "    for i in range(len(list1) - 1):\n",
        "        if list1[i] > list1[i + 1]:\n",
        "            return False\n",
        "    return True\n",
        "lst1 = [1, 2, 3, 4, 5]\n",
        "lst2 = [1, 3, 2, 4, 5]\n",
        "\n",
        "print( ssorted(lst1))\n",
        "print( ssorted(lst2))"
      ],
      "metadata": {
        "id": "f4I1O1IhOGEd"
      },
      "execution_count": null,
      "outputs": []
    },
    {
      "cell_type": "markdown",
      "source": [
        "**Write a Python program to calculate the factorial of a number using a for loop**"
      ],
      "metadata": {
        "id": "5AxShFTYOI90"
      }
    },
    {
      "cell_type": "code",
      "source": [
        "number=int(input(\"enter a number\"))\n",
        "result=1\n",
        "for i in range(number,0,-1):\n",
        "    result*=i\n",
        "print(result)"
      ],
      "metadata": {
        "id": "klPJU-ktOL99"
      },
      "execution_count": null,
      "outputs": []
    },
    {
      "cell_type": "markdown",
      "source": [
        "**Create a program to generate the Fibonacci sequence up to a certain number of terms using a for loop**"
      ],
      "metadata": {
        "id": "zSD3eH32OOzk"
      }
    },
    {
      "cell_type": "code",
      "source": [
        "???"
      ],
      "metadata": {
        "id": "dz4mWwn-OSG0"
      },
      "execution_count": null,
      "outputs": []
    },
    {
      "cell_type": "markdown",
      "source": [
        "**Write a function to compute the sum of all elements in a list using a for loop**"
      ],
      "metadata": {
        "id": "e7q768hsOUvs"
      }
    },
    {
      "cell_type": "code",
      "source": [
        "def sum_elements(n):\n",
        "    s = 0\n",
        "    for i in n:\n",
        "        s += i\n",
        "    return s\n",
        "numbers = [1, 2, 3, 4, 5]\n",
        "result = sum_elements(numbers)\n",
        "print(f\" {result}\")"
      ],
      "metadata": {
        "id": "hbJ3q5GDOXc0",
        "colab": {
          "base_uri": "https://localhost:8080/"
        },
        "outputId": "967dde20-46e7-4787-8a9e-7c6c6fb388c9"
      },
      "execution_count": 5,
      "outputs": [
        {
          "output_type": "stream",
          "name": "stdout",
          "text": [
            " 15\n"
          ]
        }
      ]
    },
    {
      "cell_type": "markdown",
      "source": [
        "**Write a Python function to check if a number is prime**"
      ],
      "metadata": {
        "id": "Xc87j9nmObmM"
      }
    },
    {
      "cell_type": "code",
      "source": [
        "def prime(n):\n",
        "    if n <= 1:\n",
        "        return False\n",
        "    for i in range(2, n):\n",
        "        if n % i == 0:\n",
        "            return False\n",
        "    return True\n",
        "print(prime(2))"
      ],
      "metadata": {
        "id": "VmxNLFacOfFk"
      },
      "execution_count": null,
      "outputs": []
    },
    {
      "cell_type": "markdown",
      "source": [
        "**Create a function to reverse a string using recursion**"
      ],
      "metadata": {
        "id": "fPpLblWXOhDU"
      }
    },
    {
      "cell_type": "code",
      "source": [
        "def reversestring(n):\n",
        "    if len(n) <= 1:\n",
        "        return n\n",
        "    return reversestring(n[1:]) + n[0]\n",
        "\n",
        "string = \"Hello\"\n",
        "print(f\"{reversestring(string)}\")"
      ],
      "metadata": {
        "id": "ysB4Q620Oj40",
        "colab": {
          "base_uri": "https://localhost:8080/"
        },
        "outputId": "37de9906-7461-4581-a0bf-9d473b904ec8"
      },
      "execution_count": 4,
      "outputs": [
        {
          "output_type": "stream",
          "name": "stdout",
          "text": [
            "olleH\n"
          ]
        }
      ]
    },
    {
      "cell_type": "code",
      "source": [
        "def reversestring(s):\n",
        "    return ''.join(reversed(s))\n",
        "\n",
        "string = \"Hello\"\n",
        "print(f\" {reversestring(string)}\")"
      ],
      "metadata": {
        "id": "2nvV2CMv5oRp"
      },
      "execution_count": null,
      "outputs": []
    },
    {
      "cell_type": "markdown",
      "source": [
        "**Write a program that takes a list of integers and returns the largest number using a function**"
      ],
      "metadata": {
        "id": "4qLP9xYTOltk"
      }
    },
    {
      "cell_type": "code",
      "source": [
        "def findlargest(list1):\n",
        "    return max(list1) if list1 else False\n",
        "numbers = [10, 20, 30, 40, 50, 60]\n",
        "print(f\" {findlargest(numbers)}\")"
      ],
      "metadata": {
        "id": "9wJQseoeOnis",
        "colab": {
          "base_uri": "https://localhost:8080/"
        },
        "outputId": "e4ed4241-05b0-4b08-9635-3ba37227d09d"
      },
      "execution_count": 3,
      "outputs": [
        {
          "output_type": "stream",
          "name": "stdout",
          "text": [
            " 60\n"
          ]
        }
      ]
    },
    {
      "cell_type": "markdown",
      "source": [
        "**Implement selection sort using a function and demonstrate its usage**"
      ],
      "metadata": {
        "id": "2ds4zQmGOpv0"
      }
    },
    {
      "cell_type": "code",
      "source": [
        "def sort(list1):\n",
        "    for i in range(len(list1)):\n",
        "        index = i\n",
        "        for j in range(i + 1, len(list1)):\n",
        "            if list1[j] < list1[index]:\n",
        "                index = j\n",
        "        list1[i], list1[index] = list1[index], list1[i]\n",
        "unsorted = [64, 25, 12, 22, 11]\n",
        "print(f\"unsorted list: {unsorted}\")\n",
        "\n",
        "sort(unsorted)\n",
        "print(f\"Sorted list: {unsorted}\")"
      ],
      "metadata": {
        "id": "rYSs7DnOasEJ"
      },
      "execution_count": null,
      "outputs": []
    },
    {
      "cell_type": "markdown",
      "source": [
        "**Create a program that uses a function to find the intersection of two lists.**"
      ],
      "metadata": {
        "id": "9d9LdXoRatvh"
      }
    },
    {
      "cell_type": "code",
      "source": [
        "def intersect(list1, list2):\n",
        "    return list(set(list1) & set(list2))\n",
        "\n",
        "list1 = [1, 2, 3, 4, 5]\n",
        "list2 = [4, 5, 6, 7, 8]\n",
        "print(f\": {intersect(list1, list2)}\")"
      ],
      "metadata": {
        "id": "r09e5Opsaw8Z"
      },
      "execution_count": null,
      "outputs": []
    }
  ]
}