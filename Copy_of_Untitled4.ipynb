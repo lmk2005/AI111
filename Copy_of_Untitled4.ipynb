{
  "nbformat": 4,
  "nbformat_minor": 0,
  "metadata": {
    "colab": {
      "provenance": []
    },
    "kernelspec": {
      "name": "python3",
      "display_name": "Python 3"
    },
    "language_info": {
      "name": "python"
    }
  },
  "cells": [
    {
      "cell_type": "code",
      "execution_count": null,
      "metadata": {
        "colab": {
          "base_uri": "https://localhost:8080/"
        },
        "id": "sSQJ9XmZ61_f",
        "outputId": "71b7034f-2d06-49d3-ac5c-1fbf19ad0f45"
      },
      "outputs": [
        {
          "output_type": "stream",
          "name": "stdout",
          "text": [
            "1+2+3+4+5+6+7+8+9+10+"
          ]
        }
      ],
      "source": [
        "i = 1\n",
        "\n",
        "while i<=10:\n",
        "    print(i, end=\"+\")\n",
        "    i += 1\n"
      ]
    },
    {
      "cell_type": "markdown",
      "source": [],
      "metadata": {
        "id": "6BlNUpYG7hRf"
      }
    },
    {
      "cell_type": "code",
      "source": [
        "i = 1\n",
        "\n",
        "while i <= 10:\n",
        "    if i < 10:\n",
        "        print(i, end=\"+\")\n",
        "    else:\n",
        "        print(i)\n",
        "    i += 1"
      ],
      "metadata": {
        "id": "cqriyqpK7iAC"
      },
      "execution_count": null,
      "outputs": []
    },
    {
      "cell_type": "code",
      "source": [
        "l = [\"1\",\"2\",\"3\",\"4\",\"5\",\"6\",\"7\",\"8\",\"9\",\"10\"]\n",
        "s = \"+ \"\n",
        "\n",
        "print(s.join(l))"
      ],
      "metadata": {
        "colab": {
          "base_uri": "https://localhost:8080/"
        },
        "id": "MeoNPIsZ8Zy-",
        "outputId": "33983e3c-72a6-49f3-9f6b-bd3f63d657e1"
      },
      "execution_count": null,
      "outputs": [
        {
          "output_type": "stream",
          "name": "stdout",
          "text": [
            "1+ 2+ 3+ 4+ 5+ 6+ 7+ 8+ 9+ 10\n"
          ]
        }
      ]
    }
  ]
}