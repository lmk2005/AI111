{
  "cells": [
    {
      "cell_type": "markdown",
      "id": "759d04ba",
      "metadata": {
        "id": "759d04ba"
      },
      "source": [
        "**1-Write a Python program to calculate the length of a string using 2 ways"
      ]
    },
    {
      "cell_type": "code",
      "execution_count": 1,
      "id": "e434c950",
      "metadata": {
        "id": "e434c950",
        "colab": {
          "base_uri": "https://localhost:8080/"
        },
        "outputId": "50ac87d8-ce4d-458e-e7ef-10020dfe4506"
      },
      "outputs": [
        {
          "output_type": "stream",
          "name": "stdout",
          "text": [
            "enter a string:laila\n",
            "5\n"
          ]
        }
      ],
      "source": [
        "string  = input(\"enter a string:\")\n",
        "i = 0\n",
        "\n",
        "while i<len(string):\n",
        "    i = i+1\n",
        "print(i)"
      ]
    },
    {
      "cell_type": "code",
      "execution_count": 2,
      "id": "7a2dfa32",
      "metadata": {
        "id": "7a2dfa32",
        "colab": {
          "base_uri": "https://localhost:8080/"
        },
        "outputId": "0cc526ed-1f2b-49ef-9bf9-61091285b8a9"
      },
      "outputs": [
        {
          "output_type": "stream",
          "name": "stdout",
          "text": [
            "5\n"
          ]
        }
      ],
      "source": [
        "string = \"laila\"\n",
        "\n",
        "print(len(string))"
      ]
    },
    {
      "cell_type": "markdown",
      "id": "d7cc9da7",
      "metadata": {
        "id": "d7cc9da7"
      },
      "source": [
        "**2-Write a Python program to get a string made of the first 2 and last 2 characters of a given string. If the string length is less than 2, return the empty string instead (\"##Sample String : 'w3resource'\n",
        "Expected Result : 'w3ce'\n",
        "##Sample String : 'w3'\n",
        "Expected Result : 'w3w3'\n",
        "##Sample String : ' w'\n",
        "Expected Result : Empty String)"
      ]
    },
    {
      "cell_type": "code",
      "execution_count": 4,
      "id": "dafa9dd8",
      "metadata": {
        "id": "dafa9dd8",
        "colab": {
          "base_uri": "https://localhost:8080/"
        },
        "outputId": "95602a7a-5658-4119-d812-e845bdf753e7"
      },
      "outputs": [
        {
          "output_type": "stream",
          "name": "stdout",
          "text": [
            "Enter a string: laila\n",
            "lala\n"
          ]
        }
      ],
      "source": [
        "s = input(\"Enter a string: \")\n",
        "\n",
        "if len(s) <= 2:\n",
        "    print(\"noooo\")\n",
        "else:\n",
        "    print(s[0:2]+s[-2:] )"
      ]
    },
    {
      "cell_type": "markdown",
      "id": "1534f956",
      "metadata": {
        "id": "1534f956"
      },
      "source": [
        "**3-Write a Python program to add 'ing' at the end of a given string (length should be at least 3). If the given string already ends with 'ing', add 'ly' instead. If the string length of the given string is less than 3, leave it unchanged. (Sample String : 'abc'\n",
        "Expected Result : 'abcing')"
      ]
    },
    {
      "cell_type": "code",
      "execution_count": 9,
      "id": "7ff8cec4",
      "metadata": {
        "id": "7ff8cec4",
        "colab": {
          "base_uri": "https://localhost:8080/"
        },
        "outputId": "c2cd2dad-f734-44df-8fc6-16930d7a9941"
      },
      "outputs": [
        {
          "output_type": "stream",
          "name": "stdout",
          "text": [
            "enter a string:beautiful\n",
            "beautifuling\n"
          ]
        }
      ],
      "source": [
        "string  = input(\"enter a string:\")\n",
        "if len(string) < 3:\n",
        "    result = string\n",
        "elif string[-3:]== ('ing'):\n",
        "    result = ''.join([string, 'ly'])\n",
        "else:\n",
        "    result = ''.join([string, 'ing'])\n",
        "print(result)"
      ]
    },
    {
      "cell_type": "markdown",
      "id": "1c0a6627",
      "metadata": {
        "id": "1c0a6627"
      },
      "source": [
        "**4-Write a Python function that takes a list of words and return the longest word and the length of the longest one\n",
        "(Longest word: Exercises\n",
        "Length of the longest word: 9)"
      ]
    },
    {
      "cell_type": "code",
      "execution_count": 10,
      "id": "397341d9",
      "metadata": {
        "id": "397341d9",
        "colab": {
          "base_uri": "https://localhost:8080/"
        },
        "outputId": "5b651960-91d8-49e9-f759-dfb19990c98e"
      },
      "outputs": [
        {
          "output_type": "stream",
          "name": "stdout",
          "text": [
            "Longest word: house of dragon\n",
            "Length of the longest word: 15\n"
          ]
        }
      ],
      "source": [
        "list1 = [\"breaking bad\", \"got\", \"prison break\", \"house of dragon\"]\n",
        "\n",
        "longestword = \"\"\n",
        "maxlength = 0\n",
        "index = 0\n",
        "\n",
        "\n",
        "while index < len(list1):\n",
        "    word = list1[index]\n",
        "\n",
        "    if len(word) > maxlength:\n",
        "        longestword = word\n",
        "        maxlength = len(word)\n",
        "    index += 1\n",
        "print(\"Longest word:\", longestword)\n",
        "print(\"Length of the longest word:\", maxlength)\n",
        "\n"
      ]
    },
    {
      "cell_type": "markdown",
      "id": "53a03a6a",
      "metadata": {
        "id": "53a03a6a"
      },
      "source": [
        "**5-Write a Python program to change a given string to a newly string where the first and last chars have been exchanged using 2 ways (Sample String:abca  Expected Result:ebce)"
      ]
    },
    {
      "cell_type": "code",
      "execution_count": 11,
      "id": "fd327d2a",
      "metadata": {
        "id": "fd327d2a",
        "colab": {
          "base_uri": "https://localhost:8080/"
        },
        "outputId": "4037e008-4362-469e-a501-2a43d7b64399"
      },
      "outputs": [
        {
          "output_type": "stream",
          "name": "stdout",
          "text": [
            "Hndorh\n"
          ]
        }
      ],
      "source": [
        "s=\"indore\"\n",
        "s=s[:-6]+'H'+s[-5:]\n",
        "s=s[:-1]+'h'\n",
        "print(s)"
      ]
    },
    {
      "cell_type": "code",
      "execution_count": 12,
      "id": "285788b4",
      "metadata": {
        "id": "285788b4",
        "colab": {
          "base_uri": "https://localhost:8080/"
        },
        "outputId": "2fe62605-a730-4744-d05b-db6537d0fcf9"
      },
      "outputs": [
        {
          "output_type": "stream",
          "name": "stdout",
          "text": [
            "Hndorh\n"
          ]
        }
      ],
      "source": [
        "s = \"indore\"\n",
        "list1 = list(s)\n",
        "list1[0] = 'H'\n",
        "list1[-1] = 'h'\n",
        "s = ''.join(list1)\n",
        "print(s)"
      ]
    },
    {
      "cell_type": "markdown",
      "id": "25f89808",
      "metadata": {
        "id": "25f89808"
      },
      "source": [
        "**6-Write a Python program to remove characters that have odd index values in a given string (Sample String:abca Expected Result:ac)"
      ]
    },
    {
      "cell_type": "code",
      "execution_count": 13,
      "id": "05959bd7",
      "metadata": {
        "id": "05959bd7",
        "colab": {
          "base_uri": "https://localhost:8080/"
        },
        "outputId": "09cf0aa1-f7ab-43a6-e4cb-fadb88f746c5"
      },
      "outputs": [
        {
          "output_type": "stream",
          "name": "stdout",
          "text": [
            "Result using loop: ac\n"
          ]
        }
      ],
      "source": [
        "string = \"abca\"\n",
        "result = \"\"\n",
        "for i in range(len(string)):\n",
        "    if i % 2 == 0:\n",
        "        result += string[i]\n",
        "print(\"Result using loop:\", result)"
      ]
    },
    {
      "cell_type": "markdown",
      "id": "eb16e898",
      "metadata": {
        "id": "eb16e898"
      },
      "source": [
        "**7. You have a list of your favourite marvel super heros.\n",
        "```\n",
        "heros=['spider man','thor','hulk','iron man','captain america']\n",
        "```\n",
        "\n",
        "Using this find out,\n",
        "\n",
        "    1. Length of the list\n",
        "    2. Add 'black panther' at the end of this list\n",
        "    3. You realize that you need to add 'black panther' after 'hulk',\n",
        "       so remove it from the list first and then add it after 'hulk'\n",
        "    4. Now you don't like thor and hulk because they get angry easily :)\n",
        "       So you want to remove thor and hulk from list and replace them with doctor strange (because he is cool).\n",
        "       Do that with one line of code.\n",
        "    5. Sort the heros list in alphabetical order (Hint. Use dir() functions to list down all functions available in list)"
      ]
    },
    {
      "cell_type": "code",
      "execution_count": 14,
      "id": "01ce6cf5",
      "metadata": {
        "id": "01ce6cf5",
        "colab": {
          "base_uri": "https://localhost:8080/"
        },
        "outputId": "1200efa0-8b19-4c38-a317-86e77472fb4c"
      },
      "outputs": [
        {
          "output_type": "stream",
          "name": "stdout",
          "text": [
            "5\n",
            "List after adding 'black panther': ['spider man', 'thor', 'hulk', 'iron man', 'captain america', 'black panther']\n",
            "List after moving 'black panther' after 'hulk': ['spider man', 'thor', 'hulk', 'black panther', 'iron man', 'captain america']\n",
            "List after replacing 'thor' and 'hulk' with 'doctor strange': ['spider man', 'doctor strange', 'black panther', 'iron man', 'captain america']\n",
            "Sorted list: ['black panther', 'captain america', 'doctor strange', 'iron man', 'spider man']\n"
          ]
        }
      ],
      "source": [
        "heros = ['spider man', 'thor', 'hulk', 'iron man', 'captain america']\n",
        "\n",
        "length_of_list = len(heros)\n",
        "print( length_of_list)\n",
        "\n",
        "heros.append('black panther')\n",
        "print(\"List after adding 'black panther':\", heros)\n",
        "\n",
        "heros.remove('black panther')\n",
        "heros.insert(heros.index('hulk') + 1, 'black panther')\n",
        "print(\"List after moving 'black panther' after 'hulk':\", heros)\n",
        "heros[1:3] = ['doctor strange']\n",
        "print(\"List after replacing 'thor' and 'hulk' with 'doctor strange':\", heros)\n",
        "heros.sort()\n",
        "print(\"Sorted list:\", heros)"
      ]
    },
    {
      "cell_type": "markdown",
      "id": "4e8125f1",
      "metadata": {
        "id": "4e8125f1"
      },
      "source": [
        "**8-Write a Python script that takes input from the user and displays that input back in upper and lower cases"
      ]
    },
    {
      "cell_type": "code",
      "execution_count": 15,
      "id": "66c8f778",
      "metadata": {
        "id": "66c8f778",
        "colab": {
          "base_uri": "https://localhost:8080/"
        },
        "outputId": "33b7bbee-ca2b-4c6c-d4ca-9f016dc6854b"
      },
      "outputs": [
        {
          "output_type": "stream",
          "name": "stdout",
          "text": [
            "LAILA\n",
            "laila\n"
          ]
        }
      ],
      "source": [
        "a = \"laila\"\n",
        "print(a.upper())\n",
        "a=a.upper()\n",
        "print(a.lower())"
      ]
    },
    {
      "cell_type": "markdown",
      "id": "fcd68aa1",
      "metadata": {
        "id": "fcd68aa1"
      },
      "source": [
        "**9-Write a Python function to reverse a string if its length is a multiple of 4"
      ]
    },
    {
      "cell_type": "code",
      "execution_count": 17,
      "id": "0671a931",
      "metadata": {
        "id": "0671a931",
        "colab": {
          "base_uri": "https://localhost:8080/"
        },
        "outputId": "3b7bbf5c-ee37-4868-80a4-36fff4ab1af9"
      },
      "outputs": [
        {
          "output_type": "stream",
          "name": "stdout",
          "text": [
            "Enter a string: sama\n",
            "amas\n"
          ]
        }
      ],
      "source": [
        "string = input(\"Enter a string: \")\n",
        "\n",
        "if len(string) % 4 == 0:\n",
        "    print(string[::-1])\n",
        "else:\n",
        "    print(string)"
      ]
    },
    {
      "cell_type": "markdown",
      "id": "b577c68d",
      "metadata": {
        "id": "b577c68d"
      },
      "source": [
        "**10- Write a Python program to remove a newline in Python"
      ]
    },
    {
      "cell_type": "code",
      "execution_count": 18,
      "id": "e0c6525a",
      "metadata": {
        "id": "e0c6525a",
        "colab": {
          "base_uri": "https://localhost:8080/"
        },
        "outputId": "2130e826-0e75-499a-d0cf-e65d449f6b7e"
      },
      "outputs": [
        {
          "output_type": "stream",
          "name": "stdout",
          "text": [
            "['', ' ']\n"
          ]
        }
      ],
      "source": [
        "r = \"Hello \"\n",
        "\n",
        "print(r.split(sep=\"Hello\"))\n"
      ]
    },
    {
      "cell_type": "code",
      "execution_count": 19,
      "id": "0cc4e03e",
      "metadata": {
        "id": "0cc4e03e",
        "colab": {
          "base_uri": "https://localhost:8080/"
        },
        "outputId": "4733443e-502c-49f6-d3f6-bc575e402e52"
      },
      "outputs": [
        {
          "output_type": "stream",
          "name": "stdout",
          "text": [
            "laila kamal\n",
            "laila kamal\n",
            "laila kamal\n"
          ]
        }
      ],
      "source": [
        "string = \"\"\"laila kamal\n",
        "laila kamal\n",
        "laila kamal\"\"\"\n",
        "\n",
        "prefix = \"\"\n",
        "string_lines = string.splitlines()\n",
        "index = 0\n",
        "\n",
        "while index < len(string_lines):\n",
        "    line = string_lines[index].strip()\n",
        "    if line:\n",
        "        print(prefix + line)\n",
        "    else:\n",
        "        print(line)\n",
        "\n",
        "    index += 1"
      ]
    },
    {
      "cell_type": "markdown",
      "id": "593a68db",
      "metadata": {
        "id": "593a68db"
      },
      "source": [
        "**11- Write a Python program to add prefix text to all of the lines in a string"
      ]
    },
    {
      "cell_type": "markdown",
      "id": "86fa1543",
      "metadata": {
        "id": "86fa1543"
      },
      "source": [
        "**12-Write a Python program to print the following numbers up to 2 decimal places\n",
        "\n",
        "ex:\n",
        "Original Number:  3.1415926                                                                                   \n",
        "Formatted Number: 3.14                                                                                        \n",
        "Original Number:  12.9999                                                                                     \n",
        "Formatted Number: 13.00  \n"
      ]
    },
    {
      "cell_type": "code",
      "execution_count": 20,
      "id": "cd4a9d89",
      "metadata": {
        "id": "cd4a9d89",
        "colab": {
          "base_uri": "https://localhost:8080/"
        },
        "outputId": "25019ae6-027d-414a-d142-59cbadb63a10"
      },
      "outputs": [
        {
          "output_type": "stream",
          "name": "stdout",
          "text": [
            "Enter a number: 13.14591\n",
            "13.15\n"
          ]
        }
      ],
      "source": [
        "number = float(input(\"Enter a number: \"))\n",
        "formatted_number = f\"{number:.2f}\"\n",
        "print(formatted_number)"
      ]
    },
    {
      "cell_type": "markdown",
      "id": "452c0ab0",
      "metadata": {
        "id": "452c0ab0"
      },
      "source": [
        "**13-Write a Python program to print the following numbers up to 2 decimal places with a sign"
      ]
    },
    {
      "cell_type": "code",
      "execution_count": 21,
      "id": "73e82479",
      "metadata": {
        "id": "73e82479",
        "colab": {
          "base_uri": "https://localhost:8080/"
        },
        "outputId": "a447fea7-13de-4d1c-da5e-ca1929041d8f"
      },
      "outputs": [
        {
          "output_type": "stream",
          "name": "stdout",
          "text": [
            "Enter a number: 1.02\n",
            "+1.02\n"
          ]
        }
      ],
      "source": [
        "number = float(input(\"Enter a number: \"))\n",
        "formatted_number = f\"{number:+.2f}\"\n",
        "print(formatted_number)"
      ]
    },
    {
      "cell_type": "markdown",
      "id": "32b1811a",
      "metadata": {
        "id": "32b1811a"
      },
      "source": [
        "**14-Write a Python program to display a number with a comma separator"
      ]
    },
    {
      "cell_type": "code",
      "execution_count": 23,
      "id": "f30fc0b6",
      "metadata": {
        "id": "f30fc0b6",
        "colab": {
          "base_uri": "https://localhost:8080/"
        },
        "outputId": "7a74f160-27f3-4294-98dc-11f1a74b9c17"
      },
      "outputs": [
        {
          "output_type": "stream",
          "name": "stdout",
          "text": [
            "Enter a number: 1269846856982\n",
            "1,269,846,856,982\n"
          ]
        }
      ],
      "source": [
        "number = int(input(\"Enter a number: \"))\n",
        "formatted_number = \"{:,}\".format(number)\n",
        "print(formatted_number)"
      ]
    },
    {
      "cell_type": "markdown",
      "id": "0477f487",
      "metadata": {
        "id": "0477f487"
      },
      "source": [
        "**15-Write a Python program to reverse a string using 2 ways"
      ]
    },
    {
      "cell_type": "code",
      "execution_count": 1,
      "id": "aa8beec8",
      "metadata": {
        "id": "aa8beec8",
        "colab": {
          "base_uri": "https://localhost:8080/"
        },
        "outputId": "2d349ed0-5322-4d27-c9a4-3a0ac3583b23"
      },
      "outputs": [
        {
          "output_type": "stream",
          "name": "stdout",
          "text": [
            "enter a string!FIER\n",
            "REIF\n"
          ]
        }
      ],
      "source": [
        "string=input(\"enter a string!\")\n",
        "print(string[::-1])"
      ]
    },
    {
      "cell_type": "markdown",
      "id": "3adf5669",
      "metadata": {
        "id": "3adf5669"
      },
      "source": [
        "**16-Write a Python program to remove spaces from a given string"
      ]
    },
    {
      "cell_type": "code",
      "execution_count": null,
      "id": "b4f22602",
      "metadata": {
        "id": "b4f22602"
      },
      "outputs": [],
      "source": [
        "string = \"FIER\"\n",
        "revstring = ''.join(reversed(string))\n",
        "print( revstring)"
      ]
    },
    {
      "cell_type": "code",
      "execution_count": null,
      "id": "ef3f2274",
      "metadata": {
        "id": "ef3f2274"
      },
      "outputs": [],
      "source": [
        "string = ' a aweg ttry  '\n",
        "\n",
        "nospacesstring = string.replace(\" \", \"\")\n",
        "\n",
        "print(nospacesstring)\n"
      ]
    },
    {
      "cell_type": "markdown",
      "id": "509998e2",
      "metadata": {
        "id": "509998e2"
      },
      "source": [
        "**17-write a Python program to swap first and last element of any list."
      ]
    },
    {
      "cell_type": "code",
      "execution_count": 2,
      "id": "68692d7f",
      "metadata": {
        "id": "68692d7f",
        "colab": {
          "base_uri": "https://localhost:8080/"
        },
        "outputId": "50793321-00f2-4653-820e-bf9ceb21eec1"
      },
      "outputs": [
        {
          "output_type": "stream",
          "name": "stdout",
          "text": [
            "[5, 2, 3, 4, 1]\n"
          ]
        }
      ],
      "source": [
        "list1 = [1, 2, 3, 4, 5]\n",
        "\n",
        "\n",
        "list1[0], list1[-1] = list1[-1],list1[0]\n",
        "\n",
        "\n",
        "print( list1)"
      ]
    },
    {
      "cell_type": "markdown",
      "id": "959e0837",
      "metadata": {
        "id": "959e0837"
      },
      "source": [
        "**18-Given a list in Python and provided the positions of the elements, write a program to swap the two elements in the list. (Input : List = [23, 65, 19, 90], pos1 = 1, pos2 = 3\n",
        "Output : [19, 65, 23, 90])"
      ]
    },
    {
      "cell_type": "code",
      "execution_count": 3,
      "id": "225d8c6d",
      "metadata": {
        "id": "225d8c6d",
        "colab": {
          "base_uri": "https://localhost:8080/"
        },
        "outputId": "7127fbf1-7312-4a48-b344-61dedf81824e"
      },
      "outputs": [
        {
          "output_type": "stream",
          "name": "stdout",
          "text": [
            "[19, 65, 23, 90]\n"
          ]
        }
      ],
      "source": [
        "list1 = [23, 65, 19, 90]\n",
        "\n",
        "\n",
        "list1[0], list1[2] = list1[2],list1[0]\n",
        "\n",
        "\n",
        "print( list1)"
      ]
    },
    {
      "cell_type": "markdown",
      "id": "66fc6682",
      "metadata": {
        "id": "66fc6682"
      },
      "source": [
        "**19- search for the all ways to know the length of the list"
      ]
    },
    {
      "cell_type": "code",
      "execution_count": 7,
      "id": "SXxZeSP45yDo",
      "metadata": {
        "id": "SXxZeSP45yDo",
        "colab": {
          "base_uri": "https://localhost:8080/"
        },
        "outputId": "f2040140-b1e1-4464-96ca-742233dde174"
      },
      "outputs": [
        {
          "output_type": "stream",
          "name": "stdout",
          "text": [
            "7\n"
          ]
        }
      ],
      "source": [
        "\n",
        "l=[6,89,744,484,99,894,41]\n",
        "list1 =l\n",
        "print(len(list1))"
      ]
    },
    {
      "cell_type": "markdown",
      "id": "19hrUOPJ5rmq",
      "metadata": {
        "id": "19hrUOPJ5rmq"
      },
      "source": [
        "**20-write a Python code to find the Maximum number of list of numbers."
      ]
    },
    {
      "cell_type": "code",
      "execution_count": 8,
      "id": "1a89b9d3",
      "metadata": {
        "id": "1a89b9d3",
        "colab": {
          "base_uri": "https://localhost:8080/"
        },
        "outputId": "73e79d95-9915-4789-c30a-32e156cd0d6b"
      },
      "outputs": [
        {
          "output_type": "stream",
          "name": "stdout",
          "text": [
            "894\n"
          ]
        }
      ],
      "source": [
        "l=[6,89,744,484,99,894,41]\n",
        "list1 =l\n",
        "print(max(list1))"
      ]
    },
    {
      "cell_type": "markdown",
      "id": "tdz5uTRQ50aA",
      "metadata": {
        "id": "tdz5uTRQ50aA"
      },
      "source": [
        "**21-write a Python code to find the Minimum number of list of numbers."
      ]
    },
    {
      "cell_type": "code",
      "execution_count": 9,
      "id": "21f8cbd6",
      "metadata": {
        "id": "21f8cbd6",
        "colab": {
          "base_uri": "https://localhost:8080/"
        },
        "outputId": "55ecb904-d1f8-4ddd-81f3-95128549cba8"
      },
      "outputs": [
        {
          "output_type": "stream",
          "name": "stdout",
          "text": [
            "6\n"
          ]
        }
      ],
      "source": [
        "l=[6,89,744,484,99,894,41]\n",
        "list1 =l\n",
        "print(min(list1))"
      ]
    },
    {
      "cell_type": "markdown",
      "id": "96822d96",
      "metadata": {
        "id": "96822d96"
      },
      "source": [
        "**22-search for if an elem is existing in list"
      ]
    },
    {
      "cell_type": "code",
      "execution_count": 10,
      "id": "51ca5c9a",
      "metadata": {
        "id": "51ca5c9a",
        "colab": {
          "base_uri": "https://localhost:8080/"
        },
        "outputId": "103c899f-6534-49d6-9510-3147cf24572c"
      },
      "outputs": [
        {
          "output_type": "stream",
          "name": "stdout",
          "text": [
            " exists in the list at index .\n"
          ]
        }
      ],
      "source": [
        "list1 = [3, 7, 1, 9, 4, 6, 8, 2, 5]\n",
        "elem =6\n",
        "\n",
        "\n",
        "if elem in list1:\n",
        "\n",
        "    print(\" exists in the list at index .\")\n",
        "else:\n",
        "    print(\" does not exist in the list.\")"
      ]
    },
    {
      "cell_type": "markdown",
      "id": "d9557da7",
      "metadata": {
        "id": "d9557da7"
      },
      "source": [
        "**23- clear python list using different ways"
      ]
    },
    {
      "cell_type": "code",
      "execution_count": 11,
      "id": "b69858a3",
      "metadata": {
        "id": "b69858a3",
        "colab": {
          "base_uri": "https://localhost:8080/"
        },
        "outputId": "011b57fd-c875-424d-d68f-644586d491d0"
      },
      "outputs": [
        {
          "output_type": "stream",
          "name": "stdout",
          "text": [
            "[]\n"
          ]
        }
      ],
      "source": [
        "list1 = [1, 2, 3, 4, 5, 6]\n",
        "list1 = []\n",
        "print(list1)"
      ]
    },
    {
      "cell_type": "code",
      "source": [
        "list1=[1,2,3,4,5,6]\n",
        "list1.clear()\n",
        "print(list1)"
      ],
      "metadata": {
        "colab": {
          "base_uri": "https://localhost:8080/"
        },
        "id": "G5x9R3pBdPbx",
        "outputId": "776b2d79-fd2c-4501-f708-bca0fd8a6fdb"
      },
      "id": "G5x9R3pBdPbx",
      "execution_count": 15,
      "outputs": [
        {
          "output_type": "stream",
          "name": "stdout",
          "text": [
            "[]\n"
          ]
        }
      ]
    },
    {
      "cell_type": "markdown",
      "id": "52160e88",
      "metadata": {
        "id": "52160e88"
      },
      "source": [
        "**24-remove duplicated elements from a list"
      ]
    },
    {
      "cell_type": "code",
      "execution_count": 3,
      "id": "5e362228",
      "metadata": {
        "id": "5e362228",
        "colab": {
          "base_uri": "https://localhost:8080/"
        },
        "outputId": "c7a3f16c-6d40-4830-afa6-00bb2d7a8581"
      },
      "outputs": [
        {
          "output_type": "stream",
          "name": "stdout",
          "text": [
            "[1, 2, 3, 4, 5, 6]\n"
          ]
        }
      ],
      "source": [
        "list1 = [1,1, 2, 2, 3, 4, 4, 5,5, 6, 6]\n",
        "list1 = list(set(list1))\n",
        "print(list1)\n"
      ]
    },
    {
      "cell_type": "markdown",
      "id": "c26b6e9f",
      "metadata": {
        "id": "c26b6e9f"
      },
      "source": [
        "**25-write a python program to count unique values inside a list using different ways"
      ]
    },
    {
      "cell_type": "code",
      "execution_count": 4,
      "id": "72132667",
      "metadata": {
        "id": "72132667",
        "colab": {
          "base_uri": "https://localhost:8080/"
        },
        "outputId": "f07fab67-d92a-4c6d-8dd8-692b3c89141d"
      },
      "outputs": [
        {
          "output_type": "stream",
          "name": "stdout",
          "text": [
            "[1, 2, 3, 4, 5, 6]\n"
          ]
        }
      ],
      "source": [
        "list1 = [1,1, 2, 2, 3, 4, 4, 5,5, 6, 6]\n",
        "list1 = list(set(list1))\n",
        "print(list1)"
      ]
    },
    {
      "cell_type": "markdown",
      "id": "fed6677c",
      "metadata": {
        "id": "fed6677c"
      },
      "source": [
        "**26-write a python program Extract all elements with Frequency greater than K (Input : test_list = [4, 6, 4, 3, 3, 4, 3, 4, 3, 8], K = 3\n",
        "Output : [4, 3] )"
      ]
    },
    {
      "cell_type": "code",
      "execution_count": null,
      "id": "d81f3f9d",
      "metadata": {
        "id": "d81f3f9d"
      },
      "outputs": [],
      "source": [
        "???"
      ]
    },
    {
      "cell_type": "markdown",
      "id": "caca5224",
      "metadata": {
        "id": "caca5224"
      },
      "source": [
        "**27-write a python program to find the Strongest Neighbour (Input: 1 2 2 3 4 5\n",
        "Output:  5)"
      ]
    },
    {
      "cell_type": "code",
      "execution_count": null,
      "id": "39fbd9b2",
      "metadata": {
        "id": "39fbd9b2"
      },
      "outputs": [],
      "source": [
        "l = [1,2,2,3,4,5]\n",
        "\n",
        "print(max(l))"
      ]
    },
    {
      "cell_type": "code",
      "source": [
        "list1 = [1, 2, 3, 4, 5]\n",
        "strongest = list1[0]\n",
        "\n",
        "index = 0\n",
        "\n",
        "while index < len(list1) - 1:\n",
        "    if list1[index] > strongest:\n",
        "        strongest = list1[index]\n",
        "    if list1[index + 1] > strongest:\n",
        "        strongest = list1[index + 1]\n",
        "    index += 1\n",
        "print( strongest)"
      ],
      "metadata": {
        "id": "ee6J_mL3YUEP",
        "outputId": "86e1417e-7ff8-4ca9-d0c0-e5ffdb702c3c",
        "colab": {
          "base_uri": "https://localhost:8080/"
        }
      },
      "id": "ee6J_mL3YUEP",
      "execution_count": 6,
      "outputs": [
        {
          "output_type": "stream",
          "name": "stdout",
          "text": [
            "5\n"
          ]
        }
      ]
    },
    {
      "cell_type": "markdown",
      "id": "a9fa8baf",
      "metadata": {
        "id": "a9fa8baf"
      },
      "source": [
        "**28-write a Python Program to print all Possible Combinations from the three Digits (Input: [1, 2, 3]\n",
        "Output:\n",
        "1 2 3 ##\n",
        "1 3 2 ##\n",
        "2 1 3 ##\n",
        "2 3 1 ##\n",
        "3 1 2 ##\n",
        "3 2 1)"
      ]
    },
    {
      "cell_type": "code",
      "execution_count": 7,
      "id": "8c520a76",
      "metadata": {
        "id": "8c520a76",
        "colab": {
          "base_uri": "https://localhost:8080/"
        },
        "outputId": "63e3da58-56cb-4a8a-d6fc-dcfe5f1ab797"
      },
      "outputs": [
        {
          "output_type": "stream",
          "name": "stdout",
          "text": [
            "1 2 3\n",
            "1 3 2\n",
            "2 1 3\n",
            "2 3 1\n",
            "3 1 2\n",
            "3 2 1\n"
          ]
        }
      ],
      "source": [
        "input1 = [1, 2, 3]\n",
        "n = len(input1)\n",
        "\n",
        "for i in range(n):\n",
        "    for j in range(n):\n",
        "        if j == i:\n",
        "            continue\n",
        "        for k in range(n):\n",
        "            if k == i or k == j:\n",
        "                continue\n",
        "\n",
        "            print(input1[i], input1[j], input1[k])\n",
        ""
      ]
    },
    {
      "cell_type": "markdown",
      "id": "5288bb89",
      "metadata": {
        "id": "5288bb89"
      },
      "source": [
        "**29-write a Python program to find all the Combinations in the list with the given condition (Input: test_list = [1,2,3]\n",
        "Output:\n",
        " [1], [1, 2], [1, 2, 3], [1, 3]\n",
        " [2], [2, 3], [3])"
      ]
    },
    {
      "cell_type": "code",
      "execution_count": null,
      "id": "59b89646",
      "metadata": {
        "id": "59b89646"
      },
      "outputs": [],
      "source": [
        "ListInput = [1, 2, 3]\n",
        "list1 = []\n",
        "for i in range(len(ListInput)):\n",
        "    list1.append(ListInput[i])\n",
        "    print(list1, end=\" \")\n",
        "    list1 = []\n",
        "\n",
        "\n",
        "i = 0\n",
        "while i < len(ListInput) - 1:\n",
        "    list1.append(ListInput[i])\n",
        "    list1.append(ListInput[i + 1])\n",
        "    print(list1, end=\" \")\n",
        "    list1 = []\n",
        "    i += 1\n",
        "\n",
        "\n",
        "list1.append(ListInput[0])\n",
        "list1.append(ListInput[1])\n",
        "list1.append(ListInput[2])\n",
        "print(list1)\n",
        "list1 = []"
      ]
    },
    {
      "cell_type": "markdown",
      "id": "39973705",
      "metadata": {
        "id": "39973705"
      },
      "source": [
        "**30-write a Python program to get all unique combinations of two Lists (List_1 = [\"a\",\"b\"]\n",
        "List_2 = [1,2]\n",
        "Unique_combination = [[('a',1),('b',2)],[('a',2),('b',1)]] )"
      ]
    },
    {
      "cell_type": "code",
      "execution_count": null,
      "id": "8c4ba22b",
      "metadata": {
        "id": "8c4ba22b"
      },
      "outputs": [],
      "source": [
        "List1 = [\"a\", \"b\"]\n",
        "List2 = [1, 2]\n",
        "combinations = [\n",
        "    [(List1[0], List2[i]), (List1[1], List2[j])]\n",
        "    for i in range(len(List2))\n",
        "    for j in range(len(List2))\n",
        "    if i != j\n",
        "]\n",
        "\n",
        "print( combinations)"
      ]
    },
    {
      "cell_type": "markdown",
      "id": "255fd554",
      "metadata": {
        "id": "255fd554"
      },
      "source": [
        "**31- Write a Python program that finds all pairs of elements in a list whose sum is equal to a given value."
      ]
    },
    {
      "cell_type": "code",
      "execution_count": 8,
      "id": "c2d94e1f",
      "metadata": {
        "id": "c2d94e1f",
        "colab": {
          "base_uri": "https://localhost:8080/"
        },
        "outputId": "205b18ba-9bc5-4978-ff2d-1cf9756cde09"
      },
      "outputs": [
        {
          "output_type": "stream",
          "name": "stdout",
          "text": [
            "10 : [(4, 6)]\n"
          ]
        }
      ],
      "source": [
        "n = [1, 2, 3, 4, 5, 6]\n",
        "sum1 = 10\n",
        "\n",
        "index = []\n",
        "for i in range(len(n)):\n",
        "    for j in range(i + 1, len(n)):\n",
        "        if n[i] + n[j] ==sum1:\n",
        "           index.append((n[i], n[j]))\n",
        "\n",
        "print (sum1, \":\", index)\n"
      ]
    },
    {
      "cell_type": "markdown",
      "id": "-74fqJe7BnOk",
      "metadata": {
        "id": "-74fqJe7BnOk"
      },
      "source": [
        "**32- I have a string variable called s='maine 200 banana khaye'. This of course is a wrong statement, the correct statement is 'maine 10 samosa khaye'. Replace incorrect words in original strong with new ones and print the new string. Also try to do this in one line."
      ]
    },
    {
      "cell_type": "code",
      "execution_count": 9,
      "id": "OG2czwLvBzQy",
      "metadata": {
        "id": "OG2czwLvBzQy",
        "colab": {
          "base_uri": "https://localhost:8080/"
        },
        "outputId": "6bca9aaa-74e7-4cd5-8013-e73335b4d680"
      },
      "outputs": [
        {
          "output_type": "stream",
          "name": "stdout",
          "text": [
            "maine 10 samosa khaye\n"
          ]
        }
      ],
      "source": [
        "s = \"maine 200 banana khaye\"\n",
        "news = s.replace('200', '10').replace('banana', 'samosa')\n",
        "print(news)"
      ]
    },
    {
      "cell_type": "markdown",
      "id": "RXUy-aQmB7UP",
      "metadata": {
        "id": "RXUy-aQmB7UP"
      },
      "source": [
        "**33.  You have a list of your favourite marvel super heros.\n",
        "```\n",
        "heros=['spider man','thor','hulk','iron man','captain america']\n",
        "```\n",
        "\n",
        "Using this find out,\n",
        "\n",
        "    1. Length of the list\n",
        "    2. Add 'black panther' at the end of this list\n",
        "    3. You realize that you need to add 'black panther' after 'hulk',\n",
        "       so remove it from the list first and then add it after 'hulk'\n",
        "    4. Now you don't like thor and hulk because they get angry easily :)\n",
        "       So you want to remove thor and hulk from list and replace them with doctor strange (because he is cool).\n",
        "       Do that with one line of code.\n",
        "    5. Sort the heros list in alphabetical order (Hint. Use dir() functions to list down all functions available in list)"
      ]
    },
    {
      "cell_type": "code",
      "execution_count": 16,
      "id": "7QBxB-9eB9U5",
      "metadata": {
        "id": "7QBxB-9eB9U5",
        "colab": {
          "base_uri": "https://localhost:8080/"
        },
        "outputId": "4290b45d-09e2-45a1-8da8-d5f8b47af586"
      },
      "outputs": [
        {
          "output_type": "stream",
          "name": "stdout",
          "text": [
            "5\n",
            "List after adding 'black panther': ['spider man', 'thor', 'hulk', 'iron man', 'captain america', 'black panther']\n",
            "List after moving 'black panther' after 'hulk': ['spider man', 'thor', 'hulk', 'black panther', 'iron man', 'captain america']\n",
            "List after replacing 'thor' and 'hulk' with 'doctor strange': ['spider man', 'doctor strange', 'black panther', 'iron man', 'captain america']\n",
            "Sorted list: ['black panther', 'captain america', 'doctor strange', 'iron man', 'spider man']\n"
          ]
        }
      ],
      "source": [
        "heros = ['spider man', 'thor', 'hulk', 'iron man', 'captain america']\n",
        "\n",
        "length_of_list = len(heros)\n",
        "print( length_of_list)\n",
        "\n",
        "heros.append('black panther')\n",
        "print(\"List after adding 'black panther':\", heros)\n",
        "\n",
        "heros.remove('black panther')\n",
        "heros.insert(heros.index('hulk') + 1, 'black panther')\n",
        "print(\"List after moving 'black panther' after 'hulk':\", heros)\n",
        "heros[1:3] = ['doctor strange']\n",
        "print(\"List after replacing 'thor' and 'hulk' with 'doctor strange':\", heros)\n",
        "heros.sort()\n",
        "print(\"Sorted list:\", heros)"
      ]
    }
  ],
  "metadata": {
    "colab": {
      "provenance": []
    },
    "kernelspec": {
      "display_name": "Python 3 (ipykernel)",
      "language": "python",
      "name": "python3"
    },
    "language_info": {
      "codemirror_mode": {
        "name": "ipython",
        "version": 3
      },
      "file_extension": ".py",
      "mimetype": "text/x-python",
      "name": "python",
      "nbconvert_exporter": "python",
      "pygments_lexer": "ipython3",
      "version": "3.9.13"
    }
  },
  "nbformat": 4,
  "nbformat_minor": 5
}